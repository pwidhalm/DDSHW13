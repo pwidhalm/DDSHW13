{
 "cells": [
  {
   "cell_type": "code",
   "execution_count": null,
   "metadata": {
    "collapsed": true
   },
   "outputs": [],
   "source": [
    "my_list=[45.4,44.2,36.8,35.1,39.0,60.0,47.4,41.1,45.8,35.6]\n",
    "print my_list[4]\n",
    "\n",
    "my_list.append(55.2)\n",
    "print  my_list\n",
    "\n",
    "my_list.pop(5)\n",
    "print  my_list\n",
    "\n",
    "for i in my_list:\n",
    "    if i> 45 :\n",
    "            print i\n",
    "\n",
    "\n",
    "\n",
    "import numpy\n",
    "np=numpy\n",
    "x=np.matrix('45.4 44.2 36.8 35.1 39.0 60.0 47.4 41.1 45.8 35.6')\n",
    "xmean=x.mean()\n",
    "print(xmean)\n",
    "print(x.std())\n",
    "\n",
    "for i in np.nditer(x):\n",
    "    if i< 45:\n",
    "        print i\n",
    "\n",
    "print('max')\n",
    "print(x.max())\n",
    "\n",
    "print('min')\n",
    "print(x.min())\n",
    "\n",
    "\n",
    "\n",
    "import pandas as p\n",
    "\n",
    "\n",
    "iris=p.read_csv('c:/temp/iris.csv')\n",
    "\n",
    "print(iris.head())\n",
    "\n",
    "df1=p.DataFrame(iris)\n",
    "\n",
    "df1.drop('Id',axis=1,inplace=True)\n",
    "\n",
    "df2=df1[df1['Species']== \"Iris-setosa\"]\n",
    "\n",
    "print(df1.describe())\n",
    "\n",
    "df3=df1.groupby('Species')\n",
    "print(df3.describe())\n",
    "\n",
    "x=df1.boxplot(by='Species')\n",
    "\n",
    "\n",
    "\n",
    "import seaborn as sns\n",
    "sns.pairplot(iris,hue='Species')"
   ]
  }
 ],
 "metadata": {
  "anaconda-cloud": {},
  "kernelspec": {
   "display_name": "Python [default]",
   "language": "python",
   "name": "python3"
  },
  "language_info": {
   "codemirror_mode": {
    "name": "ipython",
    "version": 3
   },
   "file_extension": ".py",
   "mimetype": "text/x-python",
   "name": "python",
   "nbconvert_exporter": "python",
   "pygments_lexer": "ipython3",
   "version": "3.5.2"
  }
 },
 "nbformat": 4,
 "nbformat_minor": 1
}
